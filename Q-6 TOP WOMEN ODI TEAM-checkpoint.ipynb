{
 "cells": [
  {
   "cell_type": "code",
   "execution_count": 1,
   "id": "df9856a3",
   "metadata": {},
   "outputs": [],
   "source": [
    "# Top 10 ODI teams in women’s cricket along with the records for matches, points and rating.\n",
    "\n",
    "from bs4 import BeautifulSoup\n",
    "import requests"
   ]
  },
  {
   "cell_type": "code",
   "execution_count": 12,
   "id": "ba271c8c",
   "metadata": {},
   "outputs": [],
   "source": [
    "page = requests.get('https://www.icc-cricket.com/rankings/womens/team-rankings/odi')"
   ]
  },
  {
   "cell_type": "code",
   "execution_count": 13,
   "id": "db65ab98",
   "metadata": {},
   "outputs": [],
   "source": [
    "soup = BeautifulSoup(page.content)"
   ]
  },
  {
   "cell_type": "code",
   "execution_count": 18,
   "id": "5651f96a",
   "metadata": {},
   "outputs": [
    {
     "data": {
      "text/plain": [
       "[['1', 'Australia', 'AUS', '29', '4,837', '167']]"
      ]
     },
     "execution_count": 18,
     "metadata": {},
     "output_type": "execute_result"
    }
   ],
   "source": [
    "top_team=[]\n",
    "for i in soup.find_all('tr',class_='rankings-block__banner'):\n",
    "    top_team.append(i.text.split())\n",
    "top_team"
   ]
  },
  {
   "cell_type": "code",
   "execution_count": 19,
   "id": "b139b3fc",
   "metadata": {},
   "outputs": [
    {
     "data": {
      "text/plain": [
       "[['2', 'South', 'Africa', 'SA', '32', '3,949', '123'],\n",
       " ['3', 'England', 'ENG', '30', '3,531', '118'],\n",
       " ['4', 'India', 'IND', '29', '2,889', '100'],\n",
       " ['5', 'New', 'Zealand', 'NZ', '31', '3,019', '97'],\n",
       " ['6', 'West', 'Indies', 'WI', '30', '2,768', '92'],\n",
       " ['7', 'Bangladesh', 'BAN', '12', '930', '78'],\n",
       " ['8', 'Pakistan', 'PAK', '30', '1,962', '65'],\n",
       " ['9', 'Sri', 'Lanka', 'SL', '8', '384', '48'],\n",
       " ['10', 'Ireland', 'IRE', '8', '351', '44'],\n",
       " ['11', 'Zimbabwe', 'ZIM', '8', '0', '0']]"
      ]
     },
     "execution_count": 19,
     "metadata": {},
     "output_type": "execute_result"
    }
   ],
   "source": [
    "team = []\n",
    "for i in soup.find_all('tr',class_='table-body'):\n",
    "    team.append(i.text.split())\n",
    "team"
   ]
  },
  {
   "cell_type": "code",
   "execution_count": 25,
   "id": "9047b613",
   "metadata": {},
   "outputs": [],
   "source": [
    "Team_description=[top_team]+[team]"
   ]
  },
  {
   "cell_type": "code",
   "execution_count": 26,
   "id": "7db8892e",
   "metadata": {},
   "outputs": [
    {
     "data": {
      "text/plain": [
       "[[['1', 'Australia', 'AUS', '29', '4,837', '167']],\n",
       " [['2', 'South', 'Africa', 'SA', '32', '3,949', '123'],\n",
       "  ['3', 'England', 'ENG', '30', '3,531', '118'],\n",
       "  ['4', 'India', 'IND', '29', '2,889', '100'],\n",
       "  ['5', 'New', 'Zealand', 'NZ', '31', '3,019', '97'],\n",
       "  ['6', 'West', 'Indies', 'WI', '30', '2,768', '92'],\n",
       "  ['7', 'Bangladesh', 'BAN', '12', '930', '78'],\n",
       "  ['8', 'Pakistan', 'PAK', '30', '1,962', '65'],\n",
       "  ['9', 'Sri', 'Lanka', 'SL', '8', '384', '48'],\n",
       "  ['10', 'Ireland', 'IRE', '8', '351', '44'],\n",
       "  ['11', 'Zimbabwe', 'ZIM', '8', '0', '0']]]"
      ]
     },
     "execution_count": 26,
     "metadata": {},
     "output_type": "execute_result"
    }
   ],
   "source": [
    "Team_description"
   ]
  },
  {
   "cell_type": "code",
   "execution_count": null,
   "id": "e80986d7",
   "metadata": {},
   "outputs": [],
   "source": []
  }
 ],
 "metadata": {
  "kernelspec": {
   "display_name": "Python 3 (ipykernel)",
   "language": "python",
   "name": "python3"
  },
  "language_info": {
   "codemirror_mode": {
    "name": "ipython",
    "version": 3
   },
   "file_extension": ".py",
   "mimetype": "text/x-python",
   "name": "python",
   "nbconvert_exporter": "python",
   "pygments_lexer": "ipython3",
   "version": "3.9.7"
  }
 },
 "nbformat": 4,
 "nbformat_minor": 5
}
