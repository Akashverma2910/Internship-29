{
 "cells": [
  {
   "cell_type": "code",
   "execution_count": 9,
   "id": "07f36ea6",
   "metadata": {},
   "outputs": [
    {
     "name": "stdout",
     "output_type": "stream",
     "text": [
      "Enter the number:3\n",
      "The factorial of 3 is 1\n",
      "The factorial of 3 is 2\n",
      "The factorial of 3 is 6\n"
     ]
    }
   ],
   "source": [
    "# for finding factorial of a number\n",
    "\n",
    "number = int(input('Enter the number:'))\n",
    "factorial = 1\n",
    "# to check the number,if it is positive , negative or zero\n",
    "\n",
    "if number > 0:\n",
    "    for i in range(1,number + 1):\n",
    "        factorial = factorial*i\n",
    "        print(\"The factorial of\",number,\"is\",factorial)\n",
    "elif number == 0:\n",
    "    print(\"The factorial of number 0 is 1\")\n",
    "else :\n",
    "    print(\"Factorial of negative number is not possible\")"
   ]
  },
  {
   "cell_type": "code",
   "execution_count": 16,
   "id": "a529b042",
   "metadata": {},
   "outputs": [
    {
     "name": "stdout",
     "output_type": "stream",
     "text": [
      "Enter the number:1\n",
      "The number 1 is niether prime nor composite\n"
     ]
    }
   ],
   "source": [
    "# Number is prime or composite?\n",
    "number = int(input(\"Enter the number:\"))\n",
    "\n",
    "if number > 1:\n",
    "    for i in range(2,number):\n",
    "        if (number%i == 0):\n",
    "            print(\"The number\",number,\"is composite number\")\n",
    "            break\n",
    "        else:\n",
    "            print(\"The number \",number,\"is prime number\")\n",
    "elif (number == 0 or number == 1):\n",
    "    print(\"The number\",number,\"is niether prime nor composite\")\n",
    "else:\n",
    "    print(\"please enter valid number\")\n",
    "        "
   ]
  },
  {
   "cell_type": "code",
   "execution_count": 19,
   "id": "c1ee2372",
   "metadata": {},
   "outputs": [
    {
     "name": "stdout",
     "output_type": "stream",
     "text": [
      "Enter the stringhgk\n",
      "no\n"
     ]
    }
   ],
   "source": [
    "#string is palindrome or not\n",
    "string = str(input('Enter the string'))\n",
    "\n",
    "reverse = \"\"\n",
    "for i in string:\n",
    "    reverse = i + reverse\n",
    "    \n",
    "if(string == reverse):\n",
    "    print(\"yes\")\n",
    "else:\n",
    "    print(\"no\")"
   ]
  },
  {
   "cell_type": "code",
   "execution_count": 23,
   "id": "9ac0a49d",
   "metadata": {},
   "outputs": [
    {
     "name": "stdout",
     "output_type": "stream",
     "text": [
      "hypotenuse = 5.0\n",
      "adjacent_side = 4.0\n",
      "opposite = 3.0\n",
      "answer\n"
     ]
    }
   ],
   "source": [
    "# finding 3rd side of triangle with given 2 sides\n",
    "def pythagoras(opposite_side,adjacent_side,hypotenuse):\n",
    "    if opposite_side == str(\"x\"):\n",
    "        return(\"opposite = \"+str(((hypotenuse**2)-(adjacent_side**2))**0.5))\n",
    "    elif adjacent_side == str(\"x\"):\n",
    "        return(\"adjacent_side = \"+str(((hypotenuse**2)-(opposite_side**2))**0.5))\n",
    "    elif hypotenuse == str(\"x\"):\n",
    "        return(\"hypotenuse = \"+str(((adjacent_side**2)+(opposite_side**2))**0.5))\n",
    "    else:\n",
    "        return \"answer\"\n",
    "    \n",
    "print(pythagoras(3,4,'x'))\n",
    "print(pythagoras(3,'x',5))\n",
    "print(pythagoras('x',4,5))\n",
    "print(pythagoras(3,4,5))"
   ]
  },
  {
   "cell_type": "code",
   "execution_count": 25,
   "id": "170b6633",
   "metadata": {},
   "outputs": [
    {
     "name": "stdout",
     "output_type": "stream",
     "text": [
      "count of all characters in akash is:\n",
      "{'a': 2, 'k': 1, 's': 1, 'h': 1}\n"
     ]
    }
   ],
   "source": [
    "#frequency of character in string\n",
    "string = 'akash'\n",
    "All_freq = {}\n",
    "\n",
    "for i in string:\n",
    "    if i in All_freq:\n",
    "        All_freq[i]+=1\n",
    "    else:\n",
    "        All_freq[i] = 1\n",
    "        \n",
    "print(\"count of all characters in akash is:\\n\"+str(All_freq))        \n",
    "    "
   ]
  },
  {
   "cell_type": "code",
   "execution_count": null,
   "id": "68fb11ba",
   "metadata": {},
   "outputs": [],
   "source": []
  }
 ],
 "metadata": {
  "kernelspec": {
   "display_name": "Python 3 (ipykernel)",
   "language": "python",
   "name": "python3"
  },
  "language_info": {
   "codemirror_mode": {
    "name": "ipython",
    "version": 3
   },
   "file_extension": ".py",
   "mimetype": "text/x-python",
   "name": "python",
   "nbconvert_exporter": "python",
   "pygments_lexer": "ipython3",
   "version": "3.9.7"
  }
 },
 "nbformat": 4,
 "nbformat_minor": 5
}
